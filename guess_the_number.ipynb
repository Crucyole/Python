{
  "nbformat": 4,
  "nbformat_minor": 0,
  "metadata": {
    "colab": {
      "provenance": [],
      "authorship_tag": "ABX9TyOONXFpN9DdMWzhFdI7dRFw",
      "include_colab_link": true
    },
    "kernelspec": {
      "name": "python3",
      "display_name": "Python 3"
    },
    "language_info": {
      "name": "python"
    }
  },
  "cells": [
    {
      "cell_type": "markdown",
      "metadata": {
        "id": "view-in-github",
        "colab_type": "text"
      },
      "source": [
        "<a href=\"https://colab.research.google.com/github/Crucyole/Python/blob/main/guess_the_number.ipynb\" target=\"_parent\"><img src=\"https://colab.research.google.com/assets/colab-badge.svg\" alt=\"Open In Colab\"/></a>"
      ]
    },
    {
      "cell_type": "code",
      "execution_count": 5,
      "metadata": {
        "colab": {
          "base_uri": "https://localhost:8080/"
        },
        "id": "5SbAGb6H78Ac",
        "outputId": "ddf3d2b2-9811-4255-b466-b21deff5737c"
      },
      "outputs": [
        {
          "output_type": "stream",
          "name": "stdout",
          "text": [
            "I'm thinking of a number between 0 and 21! You have three chances to guess the number I'm thinking of: \n",
            "10\n",
            "Too low! Guess again: \n",
            "15\n",
            "Too high! Guess again: \n",
            "13\n",
            "That's it! Would you like to play again? (yes/no) \n",
            "yes\n",
            "I'm thinking of a number between 0 and 21! You have three chances to guess the number I'm thinking of: \n",
            "17\n",
            "Too high! Guess again: \n",
            "12\n",
            "Too low! Guess again: \n",
            "14\n",
            "Your chances are over, better luck next time! Would you like to play again? (yes/no) \n",
            "no\n",
            "Thanks for playing!\n"
          ]
        }
      ],
      "source": [
        "import random\n",
        "\n",
        "number = random.randint(0,21)\n",
        "active = True\n",
        "\n",
        "while active:\n",
        "    print(\"I'm thinking of a number between 0 and 21! You have three chances to guess the number I'm thinking of: \")\n",
        "    numberr = int(input())\n",
        "    n=1\n",
        "\n",
        "    while numberr != number and n < 3:\n",
        "        n += 1\n",
        "\n",
        "        if numberr < number:\n",
        "            print(\"Too low! Guess again: \")\n",
        "            numberr = int(input())\n",
        "        elif numberr > number:\n",
        "            print(\"Too high! Guess again: \")\n",
        "            numberr = int(input())\n",
        "      \n",
        "    if numberr == number:\n",
        "        print(\"That's it! Would you like to play again? (yes/no) \")\n",
        "        anwser = input()\n",
        "        \n",
        "    else:\n",
        "        print(\"Your chances are over, better luck next time! Would you like to play again? (yes/no) \")\n",
        "        anwser = input()\n",
        "\n",
        "        if anwser == 'no':\n",
        "            active = False\n",
        "\n",
        "print(\"Thanks for playing!\")"
      ]
    }
  ]
}